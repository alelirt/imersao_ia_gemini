{
  "nbformat": 4,
  "nbformat_minor": 0,
  "metadata": {
    "colab": {
      "provenance": [],
      "authorship_tag": "ABX9TyPnqTOx/yXLTlcXdszO9A7G",
      "include_colab_link": true
    },
    "kernelspec": {
      "name": "python3",
      "display_name": "Python 3"
    },
    "language_info": {
      "name": "python"
    }
  },
  "cells": [
    {
      "cell_type": "markdown",
      "metadata": {
        "id": "view-in-github",
        "colab_type": "text"
      },
      "source": [
        "<a href=\"https://colab.research.google.com/github/alelirt/imersao_ia_gemini/blob/main/exercicios_chatbot_wcag.ipynb\" target=\"_parent\"><img src=\"https://colab.research.google.com/assets/colab-badge.svg\" alt=\"Open In Colab\"/></a>"
      ]
    },
    {
      "cell_type": "markdown",
      "source": [
        "Instalando o SDK do Google:"
      ],
      "metadata": {
        "id": "BQVHrsfoKiNg"
      }
    },
    {
      "cell_type": "code",
      "execution_count": 1,
      "metadata": {
        "id": "WFxjU1XAx_0t"
      },
      "outputs": [],
      "source": [
        "!pip install -q -U google-generativeai"
      ]
    },
    {
      "cell_type": "code",
      "source": [
        "import google.generativeai as genai\n",
        "from google.colab import userdata\n",
        "api_key = userdata.get ('SECRET_KEY')\n",
        "genai.configure(api_key=api_key)"
      ],
      "metadata": {
        "id": "EGZKQ7E50j-2"
      },
      "execution_count": 2,
      "outputs": []
    },
    {
      "cell_type": "markdown",
      "source": [
        "Listando os modelos disponíveis:"
      ],
      "metadata": {
        "id": "QQPLrYThKojk"
      }
    },
    {
      "cell_type": "code",
      "source": [
        "for m in genai.list_models():\n",
        "  if 'generateContent' in m.supported_generation_methods:\n",
        "    print(m.name)"
      ],
      "metadata": {
        "colab": {
          "base_uri": "https://localhost:8080/",
          "height": 139
        },
        "id": "tq1X8cOI0mw3",
        "outputId": "9e6c43e1-e008-4839-8190-8c98ab1efc3d"
      },
      "execution_count": 3,
      "outputs": [
        {
          "output_type": "stream",
          "name": "stdout",
          "text": [
            "models/gemini-1.0-pro\n",
            "models/gemini-1.0-pro-001\n",
            "models/gemini-1.0-pro-latest\n",
            "models/gemini-1.0-pro-vision-latest\n",
            "models/gemini-1.5-pro-latest\n",
            "models/gemini-pro\n",
            "models/gemini-pro-vision\n"
          ]
        }
      ]
    },
    {
      "cell_type": "markdown",
      "source": [
        "Configurando o modelo:"
      ],
      "metadata": {
        "id": "T1r0SVE8KwO8"
      }
    },
    {
      "cell_type": "code",
      "source": [
        "generation_config = {\n",
        "    'candidate_count': 1,\n",
        "    'temperature': 0.5,\n",
        "}"
      ],
      "metadata": {
        "id": "AKCBDGfY0pBl"
      },
      "execution_count": 4,
      "outputs": []
    },
    {
      "cell_type": "code",
      "source": [
        "safety_settings = {\n",
        "    'HARASSMENT': 'BLOCK_NONE',\n",
        "    'HATE': 'BLOCK_NONE',\n",
        "    'SEXUAL': 'BLOCK_NONE',\n",
        "    'DANGEROUS': 'BLOCK_NONE',\n",
        "}"
      ],
      "metadata": {
        "id": "FwQo7wAp0rQH"
      },
      "execution_count": 5,
      "outputs": []
    },
    {
      "cell_type": "markdown",
      "source": [
        "Inicializando o modelo:"
      ],
      "metadata": {
        "id": "IeXD7r56K2Pk"
      }
    },
    {
      "cell_type": "code",
      "source": [
        "model = genai.GenerativeModel(model_name='gemini-1.0-pro',\n",
        "                              generation_config=generation_config,\n",
        "                              safety_settings=safety_settings)"
      ],
      "metadata": {
        "id": "Bg5Ls1GS0umk"
      },
      "execution_count": 6,
      "outputs": []
    },
    {
      "cell_type": "code",
      "source": [
        "def gerar_pergunta_wcag():\n",
        "  \"\"\"Gera uma pergunta sobre WCAG usando o Gemini.\"\"\"\n",
        "  response = model.generate_content (\n",
        "      \"Você é um professor especialista em acessibilidade. Crie uma pergunta objetiva e desafiadora sobre as diretrizes de acessibilidade WCAG, em linguagem clara.\"\n",
        "  )\n",
        "  return response.text"
      ],
      "metadata": {
        "id": "YxCcyFsr0-Vg"
      },
      "execution_count": 7,
      "outputs": []
    },
    {
      "cell_type": "code",
      "source": [
        "def verificar_resposta(pergunta, resposta_usuario):\n",
        "  \"\"\"Verifica a resposta do usuário usando o Gemini.\"\"\"\n",
        "  question = (\n",
        "      f\"A pergunta é: {pergunta}\\n\"\n",
        "      f\"A resposta do usuário é: {resposta_usuario}\\n\"\n",
        "      f\"A resposta do usuário está correta? Responda com 'Sim, você acertou!' ou 'Não, a resposta não é essa.', e forneça uma explicação detalhada, citando a resposta correta. Cite o link com a fonte da resposta.\"\n",
        "  )\n",
        "  response = model.generate_content(question)\n",
        "  return response.text"
      ],
      "metadata": {
        "id": "U2S1pD2n1EV-"
      },
      "execution_count": 8,
      "outputs": []
    },
    {
      "cell_type": "code",
      "source": [
        "print('Aqui você vai reforçar seus conhecimentos sobre a WCAG!\\n A WCAG (Web Content Accessibility Guidelines) é um conjunto de diretrizes internacionais que definem os padrões de acessibilidade para conteúdo da web. \\n O objetivo dessas diretrizes é garantir que a web seja acessível a todos.\\n')\n",
        "\n",
        "while True:\n",
        "  pergunta = gerar_pergunta_wcag()\n",
        "  print(pergunta)\n",
        "\n",
        "  resposta_usuario = input(\"Sua resposta: \\n\")\n",
        "\n",
        "  verificacao = verificar_resposta(pergunta, resposta_usuario)\n",
        "  print(verificacao)\n",
        "\n",
        "  continuar = input(\"\\n Deseja continuar? (S/N): \\n\")\n",
        "  if continuar.upper() != \"S\":\n",
        "    break"
      ],
      "metadata": {
        "colab": {
          "base_uri": "https://localhost:8080/",
          "height": 601
        },
        "id": "HXqP8amp37Bk",
        "outputId": "20d155bd-53d3-43fb-f91c-a8c11bd6b3cb"
      },
      "execution_count": 16,
      "outputs": [
        {
          "output_type": "stream",
          "name": "stdout",
          "text": [
            "Aqui você vai reforçar seus conhecimentos sobre a WCAG!\n",
            " A WCAG (Web Content Accessibility Guidelines) é um conjunto de diretrizes internacionais que definem os padrões de acessibilidade para conteúdo da web. \n",
            " O objetivo dessas diretrizes é garantir que a web seja acessível a todos.\n",
            "\n",
            "**Pergunta:**\n",
            "\n",
            "Qual das seguintes opções NÃO é um princípio das Diretrizes de Acessibilidade para Conteúdo da Web (WCAG)?\n",
            "\n",
            "(A) Percebível\n",
            "(B) Operável\n",
            "(C) Compreensível\n",
            "(D) Flexível\n"
          ]
        },
        {
          "output_type": "error",
          "ename": "KeyboardInterrupt",
          "evalue": "Interrupted by user",
          "traceback": [
            "\u001b[0;31m---------------------------------------------------------------------------\u001b[0m",
            "\u001b[0;31mKeyboardInterrupt\u001b[0m                         Traceback (most recent call last)",
            "\u001b[0;32m<ipython-input-16-7b263c49c7b9>\u001b[0m in \u001b[0;36m<cell line: 3>\u001b[0;34m()\u001b[0m\n\u001b[1;32m      5\u001b[0m   \u001b[0mprint\u001b[0m\u001b[0;34m(\u001b[0m\u001b[0mpergunta\u001b[0m\u001b[0;34m)\u001b[0m\u001b[0;34m\u001b[0m\u001b[0;34m\u001b[0m\u001b[0m\n\u001b[1;32m      6\u001b[0m \u001b[0;34m\u001b[0m\u001b[0m\n\u001b[0;32m----> 7\u001b[0;31m   \u001b[0mresposta_usuario\u001b[0m \u001b[0;34m=\u001b[0m \u001b[0minput\u001b[0m\u001b[0;34m(\u001b[0m\u001b[0;34m\"Sua resposta: \\n\"\u001b[0m\u001b[0;34m)\u001b[0m\u001b[0;34m\u001b[0m\u001b[0;34m\u001b[0m\u001b[0m\n\u001b[0m\u001b[1;32m      8\u001b[0m \u001b[0;34m\u001b[0m\u001b[0m\n\u001b[1;32m      9\u001b[0m   \u001b[0mverificacao\u001b[0m \u001b[0;34m=\u001b[0m \u001b[0mverificar_resposta\u001b[0m\u001b[0;34m(\u001b[0m\u001b[0mpergunta\u001b[0m\u001b[0;34m,\u001b[0m \u001b[0mresposta_usuario\u001b[0m\u001b[0;34m)\u001b[0m\u001b[0;34m\u001b[0m\u001b[0;34m\u001b[0m\u001b[0m\n",
            "\u001b[0;32m/usr/local/lib/python3.10/dist-packages/ipykernel/kernelbase.py\u001b[0m in \u001b[0;36mraw_input\u001b[0;34m(self, prompt)\u001b[0m\n\u001b[1;32m    849\u001b[0m                 \u001b[0;34m\"raw_input was called, but this frontend does not support input requests.\"\u001b[0m\u001b[0;34m\u001b[0m\u001b[0;34m\u001b[0m\u001b[0m\n\u001b[1;32m    850\u001b[0m             )\n\u001b[0;32m--> 851\u001b[0;31m         return self._input_request(str(prompt),\n\u001b[0m\u001b[1;32m    852\u001b[0m             \u001b[0mself\u001b[0m\u001b[0;34m.\u001b[0m\u001b[0m_parent_ident\u001b[0m\u001b[0;34m,\u001b[0m\u001b[0;34m\u001b[0m\u001b[0;34m\u001b[0m\u001b[0m\n\u001b[1;32m    853\u001b[0m             \u001b[0mself\u001b[0m\u001b[0;34m.\u001b[0m\u001b[0m_parent_header\u001b[0m\u001b[0;34m,\u001b[0m\u001b[0;34m\u001b[0m\u001b[0;34m\u001b[0m\u001b[0m\n",
            "\u001b[0;32m/usr/local/lib/python3.10/dist-packages/ipykernel/kernelbase.py\u001b[0m in \u001b[0;36m_input_request\u001b[0;34m(self, prompt, ident, parent, password)\u001b[0m\n\u001b[1;32m    893\u001b[0m             \u001b[0;32mexcept\u001b[0m \u001b[0mKeyboardInterrupt\u001b[0m\u001b[0;34m:\u001b[0m\u001b[0;34m\u001b[0m\u001b[0;34m\u001b[0m\u001b[0m\n\u001b[1;32m    894\u001b[0m                 \u001b[0;31m# re-raise KeyboardInterrupt, to truncate traceback\u001b[0m\u001b[0;34m\u001b[0m\u001b[0;34m\u001b[0m\u001b[0m\n\u001b[0;32m--> 895\u001b[0;31m                 \u001b[0;32mraise\u001b[0m \u001b[0mKeyboardInterrupt\u001b[0m\u001b[0;34m(\u001b[0m\u001b[0;34m\"Interrupted by user\"\u001b[0m\u001b[0;34m)\u001b[0m \u001b[0;32mfrom\u001b[0m \u001b[0;32mNone\u001b[0m\u001b[0;34m\u001b[0m\u001b[0;34m\u001b[0m\u001b[0m\n\u001b[0m\u001b[1;32m    896\u001b[0m             \u001b[0;32mexcept\u001b[0m \u001b[0mException\u001b[0m \u001b[0;32mas\u001b[0m \u001b[0me\u001b[0m\u001b[0;34m:\u001b[0m\u001b[0;34m\u001b[0m\u001b[0;34m\u001b[0m\u001b[0m\n\u001b[1;32m    897\u001b[0m                 \u001b[0mself\u001b[0m\u001b[0;34m.\u001b[0m\u001b[0mlog\u001b[0m\u001b[0;34m.\u001b[0m\u001b[0mwarning\u001b[0m\u001b[0;34m(\u001b[0m\u001b[0;34m\"Invalid Message:\"\u001b[0m\u001b[0;34m,\u001b[0m \u001b[0mexc_info\u001b[0m\u001b[0;34m=\u001b[0m\u001b[0;32mTrue\u001b[0m\u001b[0;34m)\u001b[0m\u001b[0;34m\u001b[0m\u001b[0;34m\u001b[0m\u001b[0m\n",
            "\u001b[0;31mKeyboardInterrupt\u001b[0m: Interrupted by user"
          ]
        }
      ]
    },
    {
      "cell_type": "markdown",
      "source": [
        "Chatbot para saber mais sobre a WCAG:"
      ],
      "metadata": {
        "id": "AeNw4PFNl2oi"
      }
    },
    {
      "cell_type": "code",
      "source": [
        "print ('Quer aprender mais? Converse sobre o assunto com nosso especialista digital!')"
      ],
      "metadata": {
        "colab": {
          "base_uri": "https://localhost:8080/"
        },
        "id": "CCZDKOU5hZw2",
        "outputId": "3c440315-2e99-41d0-887f-ee561f9fbfbc"
      },
      "execution_count": 17,
      "outputs": [
        {
          "output_type": "stream",
          "name": "stdout",
          "text": [
            "Quer aprender mais? Converse sobre o assunto com nosso especialista digital!\n"
          ]
        }
      ]
    },
    {
      "cell_type": "code",
      "source": [
        "chat = model.start_chat(history=[])"
      ],
      "metadata": {
        "id": "zo-QjH1HiV-p"
      },
      "execution_count": 18,
      "outputs": []
    },
    {
      "cell_type": "code",
      "source": [
        "prompt = input ('O que você gostaria de saber sobre acessibilidade?\\n\\n')\n",
        "\n",
        "while prompt != \"Não\":\n",
        "  response = chat.send_message (prompt)\n",
        "  print('Resposta: ', response.text, \"\\n\")\n",
        "  prompt = input ('Você gostaria de fazer alguma outra pergunta sobre o tema?\\n\\n')\n",
        "\n",
        "if prompt == \"Não\":\n",
        "            print(\"Sempre que tiver qualquer dúvida, pode me perguntar. Até a próxima!\")\n",
        "\n",
        "#Melhorando a visualização\n",
        "import textwrap\n",
        "from IPython.display import display\n",
        "from IPython.display import Markdown\n",
        "\n",
        "def to_markdown(text):\n",
        "  text = text.replace('•', '  *')\n",
        "  return Markdown(textwrap.indent(text, '> ', predicate=lambda _: True))\n",
        "\n",
        "#Imprimindo o histórico\n",
        "for message in chat.history:\n",
        "  display(to_markdown(f'**{message.role}**: {message.parts[0].text}'))\n",
        "  print('-------------------------------------------')"
      ],
      "metadata": {
        "colab": {
          "base_uri": "https://localhost:8080/",
          "height": 1000
        },
        "id": "lFhUf9P3ig8u",
        "outputId": "0780a2c3-f3a4-4d92-a048-d814078d9024"
      },
      "execution_count": 29,
      "outputs": [
        {
          "output_type": "stream",
          "name": "stdout",
          "text": [
            "O que você gostaria de saber sobre acessibilidade?\n",
            "\n",
            "Gostaria de saber sobre o citério legível\n",
            "Resposta:  **Critério Legível nas Diretrizes de Acessibilidade da Web (WCAG)**\n",
            "\n",
            "O critério legível garante que o conteúdo da web seja claro e fácil de entender, mesmo para usuários com deficiências cognitivas ou de linguagem.\n",
            "\n",
            "**Diretrizes Específicas:**\n",
            "\n",
            "* **3.1.1 Idioma da Página:** O idioma do conteúdo deve ser identificado para que as tecnologias assistivas possam fornecer suporte linguístico adequado.\n",
            "* **3.1.2 Idioma dos Componentes da Interface do Usuário:** O idioma dos componentes da interface do usuário, como menus e botões, deve ser identificado para que as tecnologias assistivas possam fornecer suporte linguístico adequado.\n",
            "* **3.1.3 Idioma das Partes:** O idioma de partes individuais do conteúdo, como citações ou trechos de código, deve ser identificado para que as tecnologias assistivas possam fornecer suporte linguístico adequado.\n",
            "* **3.2.1 Foco na Entrada:** Quando um campo de entrada recebe foco, seu propósito deve ser claro para que os usuários saibam o que inserir.\n",
            "* **3.2.2 Rótulos ou Instruções:** Os campos de entrada devem ter rótulos ou instruções claras que descrevam o propósito do campo.\n",
            "* **3.2.3 Sugestões:** As tecnologias assistivas devem ser capazes de fornecer sugestões para campos de entrada para ajudar os usuários a preencher os campos corretamente.\n",
            "* **3.2.4 Erros:** Os erros devem ser comunicados aos usuários de forma clara e concisa para que possam ser corrigidos.\n",
            "* **3.2.5 Sugestões (Automáticas):** As tecnologias assistivas devem ser capazes de fornecer sugestões automáticas para campos de entrada para ajudar os usuários a preencher os campos corretamente.\n",
            "* **3.2.6 Rótulos ou Instruções (Sem Ambiguidade):** Os rótulos ou instruções para campos de entrada devem ser claros e inequívocos para que os usuários saibam o que inserir.\n",
            "* **3.3.1 Erros de Identificação:** Os erros devem ser identificados de forma que os usuários possam entender o erro e corrigi-lo.\n",
            "* **3.3.2 Etiquetas ou Instruções:** Os erros devem ter rótulos ou instruções claras que descrevam o erro e como corrigi-lo.\n",
            "* **3.3.3 Erros (Sugestões):** As tecnologias assistivas devem ser capazes de fornecer sugestões para corrigir erros.\n",
            "* **3.3.4 Erros (Prevenção):** As tecnologias assistivas devem ser capazes de ajudar os usuários a evitar erros, como fornecendo validação de entrada.\n",
            "* **3.3.5 Erros (Ajuda):** As tecnologias assistivas devem ser capazes de fornecer ajuda aos usuários para corrigir erros.\n",
            "\n",
            "Ao atender a essas diretrizes, os desenvolvedores da web podem garantir que seu conteúdo seja legível para usuários com uma ampla gama de deficiências cognitivas ou de linguagem. \n",
            "\n",
            "Você gostaria de fazer alguma outra pergunta sobre o tema?\n",
            "\n",
            "Não\n",
            "Sempre que tiver qualquer dúvida, pode me perguntar. Até a próxima!\n"
          ]
        },
        {
          "output_type": "display_data",
          "data": {
            "text/plain": [
              "<IPython.core.display.Markdown object>"
            ],
            "text/markdown": "> **user**: O que é AAA?"
          },
          "metadata": {}
        },
        {
          "output_type": "stream",
          "name": "stdout",
          "text": [
            "-------------------------------------------\n"
          ]
        },
        {
          "output_type": "display_data",
          "data": {
            "text/plain": [
              "<IPython.core.display.Markdown object>"
            ],
            "text/markdown": "> **model**: American Automobile Association (Associação Americana de Automóveis)"
          },
          "metadata": {}
        },
        {
          "output_type": "stream",
          "name": "stdout",
          "text": [
            "-------------------------------------------\n"
          ]
        },
        {
          "output_type": "display_data",
          "data": {
            "text/plain": [
              "<IPython.core.display.Markdown object>"
            ],
            "text/markdown": "> **user**: Quais são as principais diretrizes de acessibilidade?"
          },
          "metadata": {}
        },
        {
          "output_type": "stream",
          "name": "stdout",
          "text": [
            "-------------------------------------------\n"
          ]
        },
        {
          "output_type": "display_data",
          "data": {
            "text/plain": [
              "<IPython.core.display.Markdown object>"
            ],
            "text/markdown": "> **model**: **Diretrizes de Acessibilidade da Web (WCAG)**\n> \n> **Princípios:**\n> \n> * **Perceptível:** O conteúdo é apresentável aos usuários de várias maneiras, incluindo visão, audição, tato e cognição.\n> * **Operável:** Os usuários podem interagir com o conteúdo e navegar pela interface usando várias ferramentas, como teclado, mouse e tecnologias assistivas.\n> * **Compreensível:** O conteúdo é claro e fácil de entender, mesmo para usuários com deficiências cognitivas ou de linguagem.\n> * **Robusto:** O conteúdo é confiável e compatível com uma ampla gama de tecnologias assistivas e navegadores da web.\n> \n> **Níveis de Conformidade:**\n> \n> * **Nível A:** Requisitos mínimos para acessibilidade básica.\n> * **Nível AA:** Requisitos recomendados para acessibilidade aprimorada.\n> * **Nível AAA:** Requisitos opcionais para acessibilidade máxima.\n> \n> **Diretrizes Específicas:**\n> \n> **Perceptível:**\n> \n> * Fornecer texto alternativo para imagens e conteúdo não textual.\n> * Usar cores contrastantes para texto e plano de fundo.\n> * Garantir que o conteúdo seja audível e visível para usuários com deficiências sensoriais.\n> \n> **Operável:**\n> \n> * Permitir que os usuários naveguem pelo conteúdo usando o teclado.\n> * Fornecer legendas e transcrições para conteúdo de áudio e vídeo.\n> * Garantir que os elementos da interface sejam fáceis de identificar e interagir.\n> \n> **Compreensível:**\n> \n> * Usar linguagem clara e concisa.\n> * Fornecer instruções e dicas para ajudar os usuários a entender o conteúdo.\n> * Evitar jargões e siglas que possam não ser familiares para todos os usuários.\n> \n> **Robusto:**\n> \n> * Garantir que o conteúdo seja compatível com navegadores da web e tecnologias assistivas populares.\n> * Testar o conteúdo em vários dispositivos e plataformas.\n> * Monitorar o conteúdo regularmente para garantir a conformidade contínua."
          },
          "metadata": {}
        },
        {
          "output_type": "stream",
          "name": "stdout",
          "text": [
            "-------------------------------------------\n"
          ]
        },
        {
          "output_type": "display_data",
          "data": {
            "text/plain": [
              "<IPython.core.display.Markdown object>"
            ],
            "text/markdown": "> **user**: O que é o critério perceptível?"
          },
          "metadata": {}
        },
        {
          "output_type": "stream",
          "name": "stdout",
          "text": [
            "-------------------------------------------\n"
          ]
        },
        {
          "output_type": "display_data",
          "data": {
            "text/plain": [
              "<IPython.core.display.Markdown object>"
            ],
            "text/markdown": "> **model**: **Critério Perceptível nas Diretrizes de Acessibilidade da Web (WCAG)**\n> \n> O critério perceptível garante que os usuários possam perceber e identificar o conteúdo da web de várias maneiras, incluindo visão, audição, tato e cognição.\n> \n> **Diretrizes Específicas:**\n> \n> * **1.1.1 Texto Alternativo:** Fornecer texto alternativo para imagens e conteúdo não textual para que os usuários com deficiências visuais possam entender o conteúdo.\n> * **1.2.1 Somente Áudio e Somente Vídeo (Pré-Gravado):** Fornecer legendas ou transcrições para conteúdo de áudio e vídeo pré-gravado para que os usuários com deficiências auditivas possam entender o conteúdo.\n> * **1.2.2 Legendas (Ao Vivo):** Fornecer legendas para conteúdo de áudio e vídeo ao vivo para que os usuários com deficiências auditivas possam entender o conteúdo.\n> * **1.2.3 Descrições de Áudio (Pré-Gravadas):** Fornecer descrições de áudio para conteúdo de vídeo pré-gravado para que os usuários com deficiências visuais possam entender o conteúdo.\n> * **1.2.4 Descrições de Áudio (Ao Vivo):** Fornecer descrições de áudio para conteúdo de vídeo ao vivo para que os usuários com deficiências visuais possam entender o conteúdo.\n> * **1.2.5 Alternativas de Áudio:** Fornecer alternativas de áudio para conteúdo de vídeo para que os usuários com deficiências auditivas possam entender o conteúdo.\n> * **1.2.6 Controle de Legendas:** Permitir que os usuários controlem as legendas, incluindo ligar e desligar, alterar o tamanho e a cor da fonte e ajustar a velocidade.\n> * **1.2.7 Controles de Descrição de Áudio:** Permitir que os usuários controlem as descrições de áudio, incluindo ligar e desligar e ajustar o volume.\n> * **1.3.1 Informação de Cor:** Usar cor de forma que não seja o único meio de transmitir informações, para que os usuários com deficiências visuais possam entender o conteúdo.\n> * **1.3.2 Identificação de Componentes:** Identificar componentes de interface do usuário, como botões e links, para que os usuários com deficiências visuais possam navegar pelo conteúdo.\n> * **1.3.3 Status de Conteúdo:** Fornecer feedback aos usuários sobre o status do conteúdo, como erros e mensagens de sucesso, para que os usuários com deficiências cognitivas possam entender o conteúdo.\n> * **1.3.4 Orientação:** Fornecer orientação aos usuários sobre a estrutura e o propósito do conteúdo para que os usuários com deficiências cognitivas possam entender o conteúdo.\n> * **1.3.5 Linguagem:** Identificar o idioma do conteúdo para que os usuários com deficiências cognitivas possam entender o conteúdo.\n> * **1.3.6 Texto Amplificado:** Permitir que os usuários ampliem o texto para que os usuários com deficiências visuais possam ler o conteúdo.\n> * **1.3.7 Fonte Legível:** Usar fontes legíveis para que os usuários com deficiências visuais possam ler o conteúdo.\n> * **1.4.1 Uso da Cor:** Usar cores contrastantes para texto e plano de fundo para que os usuários com deficiências visuais possam ler o conteúdo.\n> * **1.4.2 Texto em Contraste:** Garantir que o texto tenha contraste suficiente com o plano de fundo para que os usuários com deficiências visuais possam ler o conteúdo.\n> * **1.4.3 Contraste de Componentes:** Garantir que os componentes da interface do usuário tenham contraste suficiente com o plano de fundo para que os usuários com deficiências visuais possam identificá-los.\n> * **1.4.4 Distinção Visual:** Distinguir visualmente os elementos da interface do usuário para que os usuários com deficiências visuais possam identificá-los.\n> * **1.4.5 Imagens de Texto:** Evitar usar imagens de texto para que os usuários com deficiências visuais possam ler o conteúdo.\n> \n> Ao atender a essas diretrizes, os desenvolvedores da web podem garantir que seu conteúdo seja perceptível para usuários com uma ampla gama de deficiências."
          },
          "metadata": {}
        },
        {
          "output_type": "stream",
          "name": "stdout",
          "text": [
            "-------------------------------------------\n"
          ]
        },
        {
          "output_type": "display_data",
          "data": {
            "text/plain": [
              "<IPython.core.display.Markdown object>"
            ],
            "text/markdown": "> **user**: O que são os critários A, AA e AAA?"
          },
          "metadata": {}
        },
        {
          "output_type": "stream",
          "name": "stdout",
          "text": [
            "-------------------------------------------\n"
          ]
        },
        {
          "output_type": "display_data",
          "data": {
            "text/plain": [
              "<IPython.core.display.Markdown object>"
            ],
            "text/markdown": "> **model**: **Critérios A, AA e AAA nas Diretrizes de Acessibilidade da Web (WCAG)**\n> \n> As Diretrizes de Acessibilidade da Web (WCAG) definem três níveis de conformidade: A, AA e AAA. Esses níveis representam diferentes graus de acessibilidade, com o Nível AAA sendo o mais abrangente.\n> \n> **Nível A**\n> \n> O Nível A é o nível mínimo de acessibilidade e atende aos requisitos básicos para tornar o conteúdo da web acessível a usuários com uma ampla gama de deficiências. Os critérios de Nível A incluem:\n> \n> * Fornecer texto alternativo para imagens e conteúdo não textual.\n> * Garantir que o conteúdo seja audível e visível para usuários com deficiências sensoriais.\n> * Permitir que os usuários naveguem pelo conteúdo usando o teclado.\n> * Fornecer instruções e dicas para ajudar os usuários a entender o conteúdo.\n> \n> **Nível AA**\n> \n> O Nível AA é o nível recomendado de acessibilidade e atende aos requisitos do Nível A, além de fornecer acessibilidade aprimorada para usuários com deficiências mais graves. Os critérios de Nível AA incluem:\n> \n> * Fornecer legendas ou transcrições para conteúdo de áudio e vídeo.\n> * Garantir que os elementos da interface sejam fáceis de identificar e interagir.\n> * Usar cores contrastantes para texto e plano de fundo.\n> * Permitir que os usuários controlem as legendas e descrições de áudio.\n> \n> **Nível AAA**\n> \n> O Nível AAA é o nível opcional de acessibilidade e atende aos requisitos dos Níveis A e AA, além de fornecer o nível mais alto de acessibilidade. Os critérios de Nível AAA incluem:\n> \n> * Fornecer descrições de áudio para conteúdo de vídeo.\n> * Identificar o idioma do conteúdo.\n> * Permitir que os usuários ampliem o texto.\n> * Distinguir visualmente os elementos da interface do usuário.\n> * Evitar usar imagens de texto.\n> \n> Embora o Nível AAA forneça o nível mais alto de acessibilidade, pode não ser sempre possível ou prático atender a todos os seus critérios. No entanto, ao se esforçarem para atender aos critérios de Nível AA, os desenvolvedores da web podem criar conteúdo que seja acessível à maioria dos usuários com deficiência."
          },
          "metadata": {}
        },
        {
          "output_type": "stream",
          "name": "stdout",
          "text": [
            "-------------------------------------------\n"
          ]
        },
        {
          "output_type": "display_data",
          "data": {
            "text/plain": [
              "<IPython.core.display.Markdown object>"
            ],
            "text/markdown": "> **user**: Sim"
          },
          "metadata": {}
        },
        {
          "output_type": "stream",
          "name": "stdout",
          "text": [
            "-------------------------------------------\n"
          ]
        },
        {
          "output_type": "display_data",
          "data": {
            "text/plain": [
              "<IPython.core.display.Markdown object>"
            ],
            "text/markdown": "> **model**: **Critérios de Acessibilidade da Web (WCAG) 2.1**\n> \n> **Nível A**\n> \n> * 1.1.1 Texto Alternativo\n> * 1.2.1 Somente Áudio e Somente Vídeo (Pré-Gravado)\n> * 1.2.2 Legendas (Ao Vivo)\n> * 1.3.1 Informação de Cor\n> * 1.3.2 Identificação de Componentes\n> * 1.3.3 Status de Conteúdo\n> * 1.3.4 Orientação\n> * 1.3.5 Linguagem\n> * 1.4.1 Uso da Cor\n> * 1.4.2 Texto em Contraste\n> * 2.1.1 Teclado\n> * 2.1.2 Sem Armadilhas de Teclado\n> * 2.2.1 Foco Visível\n> * 2.2.2 Pausa, Parar, Ocultar\n> * 2.3.1 Três Piscadas ou Menos\n> * 2.4.1 Bloqueio de Conteúdo\n> * 2.4.2 Página Intitulada\n> * 2.4.3 Foco na Ordem\n> * 2.4.4 Objetivo do Link (No Contexto)\n> * 2.4.5 Múltiplas Formas\n> * 2.4.6 Cabeçalhos e Rótulos\n> * 3.1.1 Idioma da Página\n> * 3.2.1 Foco na Entrada\n> * 3.2.2 Rótulos ou Instruções\n> * 3.2.3 Sugestões\n> * 3.2.4 Erros\n> * 3.3.1 Erros de Identificação\n> * 3.3.2 Etiquetas ou Instruções\n> * 4.1.1 Processamento\n> * 4.1.2 Nome, Função, Valor\n> \n> **Nível AA**\n> \n> * 1.2.3 Descrições de Áudio (Pré-Gravadas)\n> * 1.2.4 Descrições de Áudio (Ao Vivo)\n> * 1.2.5 Alternativas de Áudio\n> * 1.2.6 Controle de Legendas\n> * 1.2.7 Controles de Descrição de Áudio\n> * 1.3.6 Texto Amplificado\n> * 1.3.7 Fonte Legível\n> * 1.4.3 Contraste de Componentes\n> * 1.4.4 Distinção Visual\n> * 1.4.5 Imagens de Texto\n> * 2.1.3 Teclado (Sem Funcionalidade Perdida)\n> * 2.2.3 Foco Visível (Sem Teclado)\n> * 2.2.4 Foco Visível (Temporário)\n> * 2.3.2 Três Piscadas ou Menos (Exceto Anúncios)\n> * 2.4.7 Foco Visível\n> * 2.4.8 Localização\n> * 2.4.9 Nome da Entrada\n> * 3.1.2 Idioma dos Componentes da Interface do Usuário\n> * 3.2.5 Sugestões (Automáticas)\n> * 3.3.3 Erros (Sugestões)\n> * 3.3.4 Erros (Prevenção)\n> * 4.1.3 Status da Transação\n> \n> **Nível AAA**\n> \n> * 1.1.2 Legendas (Pré-Gravadas)\n> * 1.2.8 Media Alternativa (Áudio e Vídeo)\n> * 1.2.9 Objetos\n> * 1.3.5 Idioma (Identificado)\n> * 1.3.8 Texto Legível e Compreensível\n> * 1.3.9 Conteúdo Sensível à Entrada do Usuário\n> * 1.4.6 Transformação de Texto\n> * 1.4.7 Texto em Contraste (Grande)\n> * 1.4.8 Objetos Visuais de Texto\n> * 1.4.9 Imagens de Texto (Sem Exceções)\n> * 2.1.4 Teclado (Navegação)\n> * 2.1.5 Teclado (Sem Funcionalidade Perdida)\n> * 2.2.5 Foco Visível (Sem Teclado)\n> * 2.2.6 Foco Visível (Temporário)\n> * 2.3.3 Três Piscadas ou Menos (Todos)\n> * 2.4.10 Orientação\n> * 2.4.11 Contêiner de Região\n> * 3.1.3 Idioma das Partes\n> * 3.2.6 Rótulos ou Instruções (Sem Ambiguidade)\n> * 3.3.5 Erros (Ajuda)\n> * 4.1.4 Transformação da Página"
          },
          "metadata": {}
        },
        {
          "output_type": "stream",
          "name": "stdout",
          "text": [
            "-------------------------------------------\n"
          ]
        },
        {
          "output_type": "display_data",
          "data": {
            "text/plain": [
              "<IPython.core.display.Markdown object>"
            ],
            "text/markdown": "> **user**: Sim. O que é o critério robusto?"
          },
          "metadata": {}
        },
        {
          "output_type": "stream",
          "name": "stdout",
          "text": [
            "-------------------------------------------\n"
          ]
        },
        {
          "output_type": "display_data",
          "data": {
            "text/plain": [
              "<IPython.core.display.Markdown object>"
            ],
            "text/markdown": "> **model**: **Critério Robusto nas Diretrizes de Acessibilidade da Web (WCAG)**\n> \n> O critério robusto garante que o conteúdo da web seja confiável e compatível com uma ampla gama de tecnologias assistivas e navegadores da web.\n> \n> **Diretrizes Específicas:**\n> \n> * **4.1.1 Processamento:** O conteúdo deve ser processado de forma confiável por tecnologias assistivas, como leitores de tela e lupas.\n> * **4.1.2 Nome, Função, Valor:** Os nomes, funções e valores dos elementos da interface do usuário devem ser expostos de forma que as tecnologias assistivas possam acessá-los.\n> * **4.1.3 Status da Transação:** O status das transações, como envios de formulário e atualizações de carrinho de compras, deve ser comunicado de forma confiável às tecnologias assistivas.\n> * **4.1.4 Transformação da Página:** As transformações de página, como redirecionamentos e atualizações de conteúdo, devem ser comunicadas de forma confiável às tecnologias assistivas.\n> \n> Ao atender a essas diretrizes, os desenvolvedores da web podem garantir que seu conteúdo seja robusto e acessível a usuários com uma ampla gama de deficiências e tecnologias assistivas."
          },
          "metadata": {}
        },
        {
          "output_type": "stream",
          "name": "stdout",
          "text": [
            "-------------------------------------------\n"
          ]
        },
        {
          "output_type": "display_data",
          "data": {
            "text/plain": [
              "<IPython.core.display.Markdown object>"
            ],
            "text/markdown": "> **user**: Gostaria de conhecer os critérios operáveis"
          },
          "metadata": {}
        },
        {
          "output_type": "stream",
          "name": "stdout",
          "text": [
            "-------------------------------------------\n"
          ]
        },
        {
          "output_type": "display_data",
          "data": {
            "text/plain": [
              "<IPython.core.display.Markdown object>"
            ],
            "text/markdown": "> **model**: **Critérios Operáveis nas Diretrizes de Acessibilidade da Web (WCAG)**\n> \n> Os critérios operáveis garantem que os usuários possam interagir com o conteúdo da web e navegar pela interface usando várias ferramentas, como teclado, mouse e tecnologias assistivas.\n> \n> **Diretrizes Específicas:**\n> \n> * **2.1.1 Teclado:** O conteúdo deve ser operável usando o teclado sem a necessidade de um mouse ou outro dispositivo apontador.\n> * **2.1.2 Sem Armadilhas de Teclado:** Os usuários não devem ficar presos em ciclos de foco ou em elementos que não podem ser escapados usando o teclado.\n> * **2.1.3 Teclado (Sem Funcionalidade Perdida):** A funcionalidade do teclado não deve ser desabilitada ou prejudicada quando o conteúdo recebe foco.\n> * **2.1.4 Teclado (Navegação):** Os usuários devem ser capazes de navegar pelo conteúdo usando o teclado, incluindo elementos como menus, formulários e links.\n> * **2.1.5 Teclado (Sem Funcionalidade Perdida):** A funcionalidade do teclado não deve ser desabilitada ou prejudicada quando o conteúdo recebe foco.\n> * **2.2.1 Foco Visível:** O foco do teclado deve ser claramente visível para que os usuários possam identificar o elemento atualmente selecionado.\n> * **2.2.2 Pausa, Parar, Ocultar:** Os usuários devem ser capazes de pausar, parar ou ocultar conteúdo em movimento, intermitente ou piscando.\n> * **2.2.3 Foco Visível (Sem Teclado):** O foco deve ser visível mesmo quando o teclado não estiver em uso.\n> * **2.2.4 Foco Visível (Temporário):** O foco temporário deve ser claramente distinguido do foco do teclado.\n> * **2.2.5 Foco Visível (Sem Teclado):** O foco deve ser visível mesmo quando o teclado não estiver em uso.\n> * **2.2.6 Foco Visível (Temporário):** O foco temporário deve ser claramente distinguido do foco do teclado.\n> * **2.3.1 Três Piscadas ou Menos:** O conteúdo que pisca ou pisca mais de três vezes por segundo deve ser evitado para evitar convulsões.\n> * **2.3.2 Três Piscadas ou Menos (Exceto Anúncios):** O conteúdo que pisca ou pisca mais de três vezes por segundo deve ser evitado para evitar convulsões, exceto para anúncios.\n> * **2.3.3 Três Piscadas ou Menos (Todos):** Todo o conteúdo que pisca ou pisca mais de três vezes por segundo deve ser evitado para evitar convulsões.\n> * **2.4.1 Bloqueio de Conteúdo:** O conteúdo modal, como caixas de diálogo e menus, não deve bloquear todo o conteúdo subjacente.\n> * **2.4.2 Página Intitulada:** Cada página deve ter um título exclusivo que identifique o propósito da página.\n> * **2.4.3 Foco na Ordem:** A ordem do foco deve seguir uma ordem lógica para que os usuários possam navegar pelo conteúdo de forma eficiente.\n> * **2.4.4 Objetivo do Link (No Contexto):** O propósito de cada link deve ser claro a partir do contexto do link.\n> * **2.4.5 Múltiplas Formas:** Fornecer várias maneiras de os usuários realizarem a mesma tarefa para acomodar diferentes preferências e habilidades.\n> * **2.4.6 Cabeçalhos e Rótulos:** Os cabeçalhos e rótulos devem descrever com precisão o conteúdo associado.\n> * **2.4.7 Foco Visível:** O foco do teclado deve ser claramente visível para que os usuários possam identificar o elemento atualmente selecionado.\n> * **2.4.8 Localização:** Os usuários devem ser capazes de determinar sua localização atual dentro do conteúdo.\n> * **2.4.9 Nome da Entrada:** Os campos de entrada devem ter nomes exclusivos que identifiquem claramente o propósito do campo.\n> * **2.4.10 Orientação:** A orientação do conteúdo deve ser comunicada de forma confiável às tecnologias assistivas.\n> * **2.4.11 Contêiner de Região:** As regiões de conteúdo devem ser identificadas usando elementos de contêiner de região para que as tecnologias assistivas possam identificar e navegar pelo conteúdo.\n> \n> Ao atender a essas diretrizes, os desenvolvedores da web podem garantir que seu conteúdo seja operável para usuários com uma ampla gama de deficiências e tecnologias assistivas."
          },
          "metadata": {}
        },
        {
          "output_type": "stream",
          "name": "stdout",
          "text": [
            "-------------------------------------------\n"
          ]
        },
        {
          "output_type": "display_data",
          "data": {
            "text/plain": [
              "<IPython.core.display.Markdown object>"
            ],
            "text/markdown": "> **user**: Gostaria de saber sobre o citério legível"
          },
          "metadata": {}
        },
        {
          "output_type": "stream",
          "name": "stdout",
          "text": [
            "-------------------------------------------\n"
          ]
        },
        {
          "output_type": "display_data",
          "data": {
            "text/plain": [
              "<IPython.core.display.Markdown object>"
            ],
            "text/markdown": "> **model**: **Critério Legível nas Diretrizes de Acessibilidade da Web (WCAG)**\n> \n> O critério legível garante que o conteúdo da web seja claro e fácil de entender, mesmo para usuários com deficiências cognitivas ou de linguagem.\n> \n> **Diretrizes Específicas:**\n> \n> * **3.1.1 Idioma da Página:** O idioma do conteúdo deve ser identificado para que as tecnologias assistivas possam fornecer suporte linguístico adequado.\n> * **3.1.2 Idioma dos Componentes da Interface do Usuário:** O idioma dos componentes da interface do usuário, como menus e botões, deve ser identificado para que as tecnologias assistivas possam fornecer suporte linguístico adequado.\n> * **3.1.3 Idioma das Partes:** O idioma de partes individuais do conteúdo, como citações ou trechos de código, deve ser identificado para que as tecnologias assistivas possam fornecer suporte linguístico adequado.\n> * **3.2.1 Foco na Entrada:** Quando um campo de entrada recebe foco, seu propósito deve ser claro para que os usuários saibam o que inserir.\n> * **3.2.2 Rótulos ou Instruções:** Os campos de entrada devem ter rótulos ou instruções claras que descrevam o propósito do campo.\n> * **3.2.3 Sugestões:** As tecnologias assistivas devem ser capazes de fornecer sugestões para campos de entrada para ajudar os usuários a preencher os campos corretamente.\n> * **3.2.4 Erros:** Os erros devem ser comunicados aos usuários de forma clara e concisa para que possam ser corrigidos.\n> * **3.2.5 Sugestões (Automáticas):** As tecnologias assistivas devem ser capazes de fornecer sugestões automáticas para campos de entrada para ajudar os usuários a preencher os campos corretamente.\n> * **3.2.6 Rótulos ou Instruções (Sem Ambiguidade):** Os rótulos ou instruções para campos de entrada devem ser claros e inequívocos para que os usuários saibam o que inserir.\n> * **3.3.1 Erros de Identificação:** Os erros devem ser identificados de forma que os usuários possam entender o erro e corrigi-lo.\n> * **3.3.2 Etiquetas ou Instruções:** Os erros devem ter rótulos ou instruções claras que descrevam o erro e como corrigi-lo.\n> * **3.3.3 Erros (Sugestões):** As tecnologias assistivas devem ser capazes de fornecer sugestões para corrigir erros.\n> * **3.3.4 Erros (Prevenção):** As tecnologias assistivas devem ser capazes de ajudar os usuários a evitar erros, como fornecendo validação de entrada.\n> * **3.3.5 Erros (Ajuda):** As tecnologias assistivas devem ser capazes de fornecer ajuda aos usuários para corrigir erros.\n> \n> Ao atender a essas diretrizes, os desenvolvedores da web podem garantir que seu conteúdo seja legível para usuários com uma ampla gama de deficiências cognitivas ou de linguagem."
          },
          "metadata": {}
        },
        {
          "output_type": "stream",
          "name": "stdout",
          "text": [
            "-------------------------------------------\n"
          ]
        }
      ]
    }
  ]
}